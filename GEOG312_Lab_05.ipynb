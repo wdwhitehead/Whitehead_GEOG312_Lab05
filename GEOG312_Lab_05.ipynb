{
  "cells": [
    {
      "cell_type": "markdown",
      "metadata": {
        "id": "RcZhnyY-hI2J"
      },
      "source": [
        "[![image](https://colab.research.google.com/assets/colab-badge.svg)](https://colab.research.google.com/github/giswqs/geog-312/blob/master/labs/lab_05.ipynb)\n",
        "[![image](https://binder.pangeo.io/badge_logo.svg)](https://gishub.org/geog312-pangeo)\n",
        "\n",
        "**Will Whitehead**"
      ]
    },
    {
      "cell_type": "code",
      "execution_count": null,
      "metadata": {
        "id": "R05EcmONhI2M"
      },
      "outputs": [],
      "source": [
        "from datetime import datetime\n",
        "\n",
        "now = datetime.now()\n",
        "print(f\"Submitted time: {now}\")"
      ]
    },
    {
      "cell_type": "markdown",
      "metadata": {
        "id": "cWesJV7yhI2N"
      },
      "source": [
        "## Question 1\n",
        "**Person:** Use a dictionary to store information about a person you know. Store their first name, last name, age, and the city in which they live. You should have keys such as first_name, last_name, age, and city. Print each piece of information stored in your dictionary."
      ]
    },
    {
      "cell_type": "code",
      "execution_count": 4,
      "metadata": {
        "colab": {
          "base_uri": "https://localhost:8080/"
        },
        "id": "t_1rdH23hI2N",
        "outputId": "f63ace02-201c-4202-9825-693cde9becfb"
      },
      "outputs": [
        {
          "output_type": "stream",
          "name": "stdout",
          "text": [
            "will\n",
            "whitehead\n",
            "22\n",
            "knoxville\n"
          ]
        }
      ],
      "source": [
        "personal_data = {'first_name':'will', 'last_name':'whitehead','age':22, 'city':'knoxville'}\n",
        "print(personal_data['first_name'])\n",
        "print(personal_data['last_name'])\n",
        "print(personal_data['age'])\n",
        "print(personal_data['city'])"
      ]
    },
    {
      "cell_type": "markdown",
      "metadata": {
        "id": "hLsIkCWDhI2N"
      },
      "source": [
        "## Question 2\n",
        "**Favorite Numbers:** Use a dictionary to store people’s favorite numbers. Think of five names, and use them as keys in your dictionary. Think of a favorite number for each person, and store each as a value in your dictionary. Print each person’s name and their favorite number. For even more fun, poll a few friends and get some actual data for your program."
      ]
    },
    {
      "cell_type": "code",
      "execution_count": 7,
      "metadata": {
        "colab": {
          "base_uri": "https://localhost:8080/"
        },
        "id": "qYZipTbFhI2O",
        "outputId": "c4514965-2833-4fa2-e9cf-dded602595e0"
      },
      "outputs": [
        {
          "output_type": "stream",
          "name": "stdout",
          "text": [
            "Dave: 11\n",
            "Natalie: 7\n",
            "John: 18\n",
            "Alex: 9\n",
            "Will: 7\n"
          ]
        }
      ],
      "source": [
        "fav_numbers = {'dave':11, 'natalie':7, 'john':18, 'alex':9, 'will': 7}\n",
        "for key in fav_numbers:\n",
        "  print(f'{key.title()}: {fav_numbers[key]}')"
      ]
    },
    {
      "cell_type": "markdown",
      "metadata": {
        "id": "QTcw82M5hI2O"
      },
      "source": [
        "## Question 3\n",
        "**Glossary:** A Python dictionary can be used to model an actual dictionary. However, to avoid confusion, let’s call it a glossary.\n",
        "\n",
        "* Think of five programming words you’ve learned about in the previous chapters. Use these words as the keys in your glossary, and store their meanings as values.\n",
        "* Print each word and its meaning as neatly formatted output. You might print the word followed by a colon and then its meaning, or print the word on one line and then print its meaning indented on a second line. Use the newline character (\\n) to insert a blank line between each word-meaning pair in your output."
      ]
    },
    {
      "cell_type": "code",
      "execution_count": 10,
      "metadata": {
        "colab": {
          "base_uri": "https://localhost:8080/"
        },
        "id": "9e0P1EqNhI2P",
        "outputId": "c70051e3-7f79-43cc-ece0-7ea0ec36278c"
      },
      "outputs": [
        {
          "output_type": "stream",
          "name": "stdout",
          "text": [
            "Integer: This is a data type for storing whole numbers.\n",
            "Float: This is a data type for storing numbers with decimal points.\n",
            "Constant: This is a variable that has a value that should always stay the same.\n",
            "String: This data type is used for storing lines of text.\n",
            "Comment: A comment is a line of text marked with a hash that is not read when a program is being run.\n"
          ]
        }
      ],
      "source": [
        "\n",
        "glossary = {'integer':'This is a data type for storing whole numbers.', 'float':'This is a data type for storing numbers with decimal points.', 'constant':'This is a variable that has a value that should always stay the same.', 'string':'This data type is used for storing lines of text.', 'comment':'A comment is a line of text marked with a hash that is not read when a program is being run.'}\n",
        "for key in glossary:\n",
        "  print(f'{key.title()}: {glossary[key]}')"
      ]
    },
    {
      "cell_type": "markdown",
      "metadata": {
        "id": "siRWbg4UhI2P"
      },
      "source": [
        "## Question 4\n",
        "**Glossary 2:** Now that you know how to loop through a dictionary, clean up the code from Question 3 by replacing your series of print() calls with a loop that runs through the dictionary’s keys and values. When you’re sure that your loop works, add five more Python terms to your glossary. When you run your program again, these new words and meanings should automatically be included in the output."
      ]
    },
    {
      "cell_type": "code",
      "execution_count": 13,
      "metadata": {
        "colab": {
          "base_uri": "https://localhost:8080/"
        },
        "id": "TsG_cMwIhI2P",
        "outputId": "bee760d2-bcb3-4b50-eb5e-35e405a14bab"
      },
      "outputs": [
        {
          "output_type": "stream",
          "name": "stdout",
          "text": [
            "Integer: This is a data type for storing whole numbers.\n",
            "Float: This is a data type for storing numbers with decimal points.\n",
            "Constant: This is a variable that has a value that should always stay the same.\n",
            "String: This data type is used for storing lines of text.\n",
            "Comment: A comment is a line of text marked with a hash that is not read when a program is being run.\n",
            "List: Lists, or arrays, are a collection of items stored together under the same name.\n",
            "Index: The index of an element in a list indicates its position in the list.\n",
            "Tuple: A tuple is used as a list that cannot be modified, only rewritten.\n",
            "For Loop: A for loop is used to cycle through elements of a list, applying some sort of function to each item.\n",
            "Dictionary: A dictionary is a collection of key/value pairs that can be called in a function.\n"
          ]
        }
      ],
      "source": [
        "glossary = {'integer':'This is a data type for storing whole numbers.', 'float':'This is a data type for storing numbers with decimal points.', 'constant':'This is a variable that has a value that should always stay the same.', 'string':'This data type is used for storing lines of text.', 'comment':'A comment is a line of text marked with a hash that is not read when a program is being run.', 'list':'Lists, or arrays, are a collection of items stored together under the same name.', 'index':'The index of an element in a list indicates its position in the list.', 'tuple':'A tuple is used as a list that cannot be modified, only rewritten.', 'for loop':'A for loop is used to cycle through elements of a list, applying some sort of function to each item.', 'dictionary':'A dictionary is a collection of key/value pairs that can be called in a function.' }\n",
        "for key in glossary:\n",
        "  print(f'{key.title()}: {glossary[key]}')"
      ]
    },
    {
      "cell_type": "markdown",
      "metadata": {
        "id": "Ow757FjFhI2P"
      },
      "source": [
        "## Question 5\n",
        "**Rivers:** Make a dictionary containing three major rivers and the country each river runs through. One key-value pair might be 'nile': 'egypt'.\n",
        "\n",
        "* Use a loop to print a sentence about each river, such as *The Nile runs through Egypt.*\n",
        "* Use a loop to print the name of each river included in the dictionary.\n",
        "* Use a loop to print the name of each country included in the dictionary."
      ]
    },
    {
      "cell_type": "code",
      "execution_count": 17,
      "metadata": {
        "colab": {
          "base_uri": "https://localhost:8080/"
        },
        "id": "nJga2_fFhI2Q",
        "outputId": "41ec2f5f-7aa7-4959-8800-a6766123045e"
      },
      "outputs": [
        {
          "output_type": "stream",
          "name": "stdout",
          "text": [
            "The Nile runs through Egypt.\n",
            "The Colorado River runs through America.\n",
            "The Thames runs through England.\n",
            "Nile\n",
            "Colorado River\n",
            "Thames\n",
            "Egypt\n",
            "America\n",
            "England\n"
          ]
        }
      ],
      "source": [
        "rivers = {'nile':'egypt', 'colorado river':'america', 'thames':'england'}\n",
        "for key in rivers:\n",
        "  print(f'The {key.title()} runs through {rivers[key].title()}.')\n",
        "for key in rivers:\n",
        "  print(f'{key.title()}')\n",
        "for key in rivers:\n",
        "  print(f'{rivers[key].title()}')"
      ]
    },
    {
      "cell_type": "markdown",
      "metadata": {
        "id": "z8jWa0qjhI2Q"
      },
      "source": [
        "## Question 6\n",
        "**Polling:** Based on the dictionary below (i.e., favorite_languages):\n",
        "\n",
        "* Make a list of people who should take the favorite languages poll. Include some names that are already in the dictionary and some that are not.\n",
        "* Loop through the list of people who should take the poll. If they have already taken the poll, print a message thanking them for responding. If they have not yet taken the poll, print a message inviting them to take the poll."
      ]
    },
    {
      "cell_type": "code",
      "execution_count": 18,
      "metadata": {
        "colab": {
          "base_uri": "https://localhost:8080/"
        },
        "id": "uh-lsVcuhI2Q",
        "outputId": "6fa92d4c-9b1f-4738-e2d3-0ce07d89904c"
      },
      "outputs": [
        {
          "output_type": "stream",
          "name": "stdout",
          "text": [
            "Thank you for responding.\n",
            "Thank you for responding.\n",
            "Please take our poll about your favorite coding language!\n",
            "Please take our poll about your favorite coding language!\n",
            "Please take our poll about your favorite coding language!\n"
          ]
        }
      ],
      "source": [
        "favorite_languages = {\n",
        "    'jen': 'python',\n",
        "    'sarah': 'c',\n",
        "    'edward': 'ruby',\n",
        "    'phil': 'python',\n",
        "    }\n",
        "poll_list = ['jen','edward','andrew','amy','todd']\n",
        "for name in poll_list:\n",
        "  if name in favorite_languages:\n",
        "    print('Thank you for responding.')\n",
        "  else:\n",
        "    print('Please take our poll about your favorite coding language!')"
      ]
    },
    {
      "cell_type": "markdown",
      "metadata": {
        "id": "bZLyPR_LhI2Q"
      },
      "source": [
        "## Question 7\n",
        "**People:** Start with the program you wrote for Question 1. Make two new dictionaries representing different people, and store all three dictionaries in a list called `people`. Loop through your list of people. As you loop through the list, print everything you know about each person."
      ]
    },
    {
      "cell_type": "code",
      "execution_count": 20,
      "metadata": {
        "colab": {
          "base_uri": "https://localhost:8080/"
        },
        "id": "nYrdWycDhI2R",
        "outputId": "143f743e-8f58-471b-e6fa-cf2b8b6a6aea"
      },
      "outputs": [
        {
          "output_type": "stream",
          "name": "stdout",
          "text": [
            "{'first_name': 'will', 'last_name': 'whitehead', 'age': 22, 'city': 'knoxville'}\n",
            "{'first_name': 'amy', 'last_name': 'smith', 'age': 21, 'city': 'new york'}\n",
            "{'first_name': 'john', 'last_name': 'greene', 'age': 21, 'city': 'knoxville'}\n"
          ]
        }
      ],
      "source": [
        "will_data = {'first_name':'will', 'last_name':'whitehead','age':22, 'city':'knoxville'}\n",
        "amy_data = {'first_name':'amy', 'last_name':'smith','age':21, 'city':'new york'}\n",
        "john_data = {'first_name':'john', 'last_name':'greene','age':21, 'city':'knoxville'}\n",
        "people = [will_data, amy_data, john_data]\n",
        "for people in people:\n",
        "  print(people)"
      ]
    },
    {
      "cell_type": "markdown",
      "metadata": {
        "id": "swOTILlfhI2R"
      },
      "source": [
        "## Question 8\n",
        "**Pets:** Make several dictionaries, where each dictionary represents a different pet. In each dictionary, include the kind of animal and the owner’s name. Store these dictionaries in a list called `pets`. Next, loop through your list and as you do, print everything you know about each pet."
      ]
    },
    {
      "cell_type": "code",
      "execution_count": 21,
      "metadata": {
        "colab": {
          "base_uri": "https://localhost:8080/"
        },
        "id": "za3slLbmhI2R",
        "outputId": "2219dd47-00df-4b26-c1e2-b1b6db7fb56f"
      },
      "outputs": [
        {
          "output_type": "stream",
          "name": "stdout",
          "text": [
            "{'name': 'murphy', 'type': 'dog', 'owner': 'will'}\n",
            "{'name': 'maizy', 'type': 'dog', 'owner': 'claire'}\n",
            "{'name': 'bonnie', 'type': 'dog', 'owner': 'john'}\n"
          ]
        }
      ],
      "source": [
        "from re import M\n",
        "murphy = {'name':'murphy', 'type':'dog', 'owner':'will'}\n",
        "maizy = {'name':'maizy', 'type':'dog', 'owner':'claire'}\n",
        "bonnie = {'name':'bonnie', 'type':'dog', 'owner':'john'}\n",
        "pets = [murphy, maizy, bonnie]\n",
        "for pets in pets:\n",
        "  print(pets)"
      ]
    },
    {
      "cell_type": "markdown",
      "metadata": {
        "id": "QZRG5fXghI2R"
      },
      "source": [
        "## Question 9\n",
        "**Favorite Places:** Make a dictionary called `favorite_places`. Think of three names to use as keys in the dictionary, and store one to three favorite places for each person. To make this exercise a bit more interesting, ask some friends to name a few of their favorite places. Loop through the dictionary, and print each person’s name and their favorite places."
      ]
    },
    {
      "cell_type": "code",
      "execution_count": 29,
      "metadata": {
        "colab": {
          "base_uri": "https://localhost:8080/"
        },
        "id": "Wd_QYdAJhI2R",
        "outputId": "758cfc7d-d85a-471f-f17f-4bdb9457988e"
      },
      "outputs": [
        {
          "output_type": "stream",
          "name": "stdout",
          "text": [
            "Will: Knoxville\n",
            "John: Guatemala, Knoxville\n",
            "Anna: New York, Los Angeles\n"
          ]
        }
      ],
      "source": [
        "favorite_places = {'will':'knoxville', 'john':'guatemala, knoxville','anna':'new york, los angeles'}\n",
        "for key in favorite_places:\n",
        "  print(f'{key.title()}: {favorite_places[key].title()}')"
      ]
    },
    {
      "cell_type": "markdown",
      "metadata": {
        "id": "n0rEwZc3hI2R"
      },
      "source": [
        "## Question 10\n",
        "**Favorite Numbers:** Modify your program from Question 2 so each person can have more than one favorite number. Then print each person’s name along with their favorite numbers."
      ]
    },
    {
      "cell_type": "code",
      "execution_count": 31,
      "metadata": {
        "colab": {
          "base_uri": "https://localhost:8080/"
        },
        "id": "VHlErpBrhI2R",
        "outputId": "c8762055-4a5f-4150-b847-d4e6fb23cbcc"
      },
      "outputs": [
        {
          "output_type": "stream",
          "name": "stdout",
          "text": [
            "Dave: 11, 43\n",
            "Natalie: 7\n",
            "John: 18, 12\n",
            "Alex: 9, 91\n",
            "Will: 7\n"
          ]
        }
      ],
      "source": [
        "fav_numbers = {'dave':'11, 43', 'natalie':'7', 'john':'18, 12', 'alex':'9, 91', 'will': '7'}\n",
        "for key in fav_numbers:\n",
        "  print(f'{key.title()}: {fav_numbers[key]}')"
      ]
    },
    {
      "cell_type": "markdown",
      "metadata": {
        "id": "7vU9NNSShI2R"
      },
      "source": [
        "## Question 11\n",
        "**Cities:** Make a dictionary called `cities`. Use the names of three cities as keys in your dictionary. Create a dictionary of information about each city and include the country that the city is in, its approximate population, and one fact about that city. The keys for each city’s dictionary should be something like `country`, `population`, and `fact`. Print the name of each city and all of the information you have stored about it."
      ]
    },
    {
      "cell_type": "code",
      "execution_count": 37,
      "metadata": {
        "colab": {
          "base_uri": "https://localhost:8080/"
        },
        "id": "9dHg1-CVhI2S",
        "outputId": "d997f3a4-35e9-4198-c282-52bc9bd3986f"
      },
      "outputs": [
        {
          "output_type": "stream",
          "name": "stdout",
          "text": [
            "Nashville: {'country': 'USA', 'population': '692,000', 'fact': 'State Capital of Tennessee'}\n",
            "Dallas: {'country': 'USA', 'population': '1.288 million', 'fact': 'Home of the Dallas Cowboys'}\n",
            "London: {'country': 'United Kingdom', 'population': '8.982 million', 'fact': 'Capital of the UK'}\n"
          ]
        }
      ],
      "source": [
        "nashville_dict = {'country':'USA', 'population': '692,000', 'fact':'State Capital of Tennessee'}\n",
        "dallas_dict = {'country':'USA', 'population': '1.288 million', 'fact':'Home of the Dallas Cowboys'}\n",
        "london_dict = {'country':'United Kingdom', 'population': '8.982 million', 'fact':'Capital of the UK'}\n",
        "cities = {'nashville':nashville_dict,'dallas':dallas_dict,'london':london_dict}\n",
        "for city in cities:\n",
        "  print(f'{city.title()}:', cities[city])"
      ]
    },
    {
      "cell_type": "markdown",
      "metadata": {
        "id": "gDj88eB8hI2S"
      },
      "source": [
        "## Question 12\n",
        "**Extensions:** We’re now working with examples that are complex enough that they can be extended in any number of ways. Use one of the example programs from this chapter, and extend it by adding new keys and values, changing the context of the program or improving the formatting of the output."
      ]
    },
    {
      "cell_type": "code",
      "execution_count": 39,
      "metadata": {
        "colab": {
          "base_uri": "https://localhost:8080/"
        },
        "id": "JUaZpn4ShI2S",
        "outputId": "a64c5a5d-eb77-4886-f966-ada3ee0f6821"
      },
      "outputs": [
        {
          "output_type": "stream",
          "name": "stdout",
          "text": [
            "Nashville: {'country': 'USA', 'population': '692,000', 'fact': 'State Capital of Tennessee'}\n",
            "Dallas: {'country': 'USA', 'population': '1.288 million', 'fact': 'Home of the Dallas Cowboys'}\n",
            "London: {'country': 'United Kingdom', 'population': '8.982 million', 'fact': 'Capital of the UK'}\n",
            "Washington Dc: {'country': 'USA', 'population': '712,000', 'fact': 'Capital of the USA'}\n",
            "Sau Paulo: {'country': 'Brazil', 'population': '12.33 million', 'fact': 'The most populous city in Brazil'}\n"
          ]
        }
      ],
      "source": [
        "#expanded dictionary by 2 and improved output formatting\n",
        "nashville_dict = {'country':'USA', 'population': '692,000', 'fact':'State Capital of Tennessee'}\n",
        "dallas_dict = {'country':'USA', 'population': '1.288 million', 'fact':'Home of the Dallas Cowboys'}\n",
        "london_dict = {'country':'United Kingdom', 'population': '8.982 million', 'fact':'Capital of the UK'}\n",
        "dc_dict = {'country':'USA', 'population': '712,000', 'fact':'Capital of the USA'}\n",
        "sau_paulo_dict = {'country':'Brazil', 'population': '12.33 million', 'fact':'The most populous city in Brazil'}\n",
        "cities = {'nashville':nashville_dict,'dallas':dallas_dict,'london':london_dict, 'washington DC':dc_dict, 'sau paulo':sau_paulo_dict}\n",
        "for city in cities:\n",
        "  print(f'{city.title()}:', cities[city])"
      ]
    },
    {
      "cell_type": "markdown",
      "metadata": {
        "id": "CuK0FH8fhI2S"
      },
      "source": [
        "## Question 13\n",
        "**Rental Car:** Write a program that asks the user what kind of rental car they would like. Print a message about that car, such as “Let me see if I can find you a Subaru.”"
      ]
    },
    {
      "cell_type": "code",
      "execution_count": 48,
      "metadata": {
        "colab": {
          "base_uri": "https://localhost:8080/"
        },
        "id": "8FR5u97whI2S",
        "outputId": "08876137-d17e-4979-8f89-c2fe36aa5404"
      },
      "outputs": [
        {
          "output_type": "stream",
          "name": "stdout",
          "text": [
            "What kind of rental car would you like?.Subaru\n",
            "\n",
            "I'll see if I can find you a Subaru!\n"
          ]
        }
      ],
      "source": [
        "prompt = \"What kind of rental car would you like?.\"\n",
        "\n",
        "car = input(prompt)\n",
        "print(f\"\\nI'll see if I can find you a {car}!\")"
      ]
    },
    {
      "cell_type": "markdown",
      "metadata": {
        "id": "K3Q2Jn0IhI2S"
      },
      "source": [
        "## Question 14\n",
        "**Restaurant Seating:** Write a program that asks the user how many people are in their dinner group. If the answer is more than eight, print a message saying they’ll have to wait for a table. Otherwise, report that their table is ready."
      ]
    },
    {
      "cell_type": "code",
      "execution_count": null,
      "metadata": {
        "id": "rXbJsFBehI2S"
      },
      "outputs": [],
      "source": [
        "prompt = \"How many people are in your dinner group?\"\n",
        "\n",
        "groupsize = input(prompt)\n",
        "groupsize = int(groupsize)\n",
        "if groupsize > 8:\n",
        "  print(\"We'll try and find a table for you. Please wait.\")\n",
        "else:\n",
        "  print(\"We have a table ready for you!\")\n"
      ]
    },
    {
      "cell_type": "markdown",
      "metadata": {
        "id": "3ifEn_7OhI2S"
      },
      "source": [
        "## Question 15\n",
        "**Multiples of Ten:** Ask the user for a number, and then report whether the number is a multiple of 10 or not."
      ]
    },
    {
      "cell_type": "code",
      "execution_count": null,
      "metadata": {
        "id": "qB1MefDThI2S"
      },
      "outputs": [],
      "source": [
        "prompt = \"Please enter a number.\"\n",
        "\n",
        "number = input(prompt)\n",
        "number = int(number)\n",
        "if number % 10 == 0:\n",
        "  print('This number is divisible by 10.')\n",
        "else:\n",
        "  print('This number is not divisible by 10.')"
      ]
    },
    {
      "cell_type": "markdown",
      "metadata": {
        "id": "ibraXpgLhI2S"
      },
      "source": [
        "## Question 16\n",
        "**Pizza Toppings:** Write a loop that prompts the user to enter a series of pizza toppings until they enter a 'quit' value. As they enter each topping, print a message saying you’ll add that topping to their pizza."
      ]
    },
    {
      "cell_type": "code",
      "execution_count": null,
      "metadata": {
        "id": "WJ9O7VeIhI2T"
      },
      "outputs": [],
      "source": [
        "prompt = \"Please enter your desired topping.\"\n",
        "prompt2 = 'Want another topping? If not, please enter \"Done\"'\n",
        "topping = input(prompt)\n",
        "print(f\"We'll add {topping} to your pizza!\")\n",
        "while topping != \"Done\":\n",
        "  topping = input(prompt2)\n",
        "  if topping != \"Done\":\n",
        "    print(f\"We'll add {topping} to your pizza!\")\n",
        "  else:\n",
        "    print(\"We'll start preparing your order now.\")\n",
        ""
      ]
    },
    {
      "cell_type": "markdown",
      "metadata": {
        "id": "f5zmWEFBhI2T"
      },
      "source": [
        "## Question 17\n",
        "**Movie Tickets:** A movie theater charges different ticket prices depending on a person’s age. If a person is under the age of 3, the ticket is free; if they are between 3 and 12, the ticket is \\\\$10; and if they are over age 12, the ticket is $15. Write a loop in which you ask users their age, and then tell them the cost of their movie ticket."
      ]
    },
    {
      "cell_type": "code",
      "execution_count": null,
      "metadata": {
        "id": "IA1MQCTmhI2T"
      },
      "outputs": [],
      "source": [
        "prompt = \"Please enter the age of the ticketholder.\"\n",
        "\n",
        "age = input(prompt)\n",
        "age = int(age)\n",
        "if age < 3:\n",
        "  print('Your ticket is free.')\n",
        "elif age <= 12:\n",
        "  print('Your ticket is $10.')\n",
        "else:\n",
        "  print('Your ticket is $15.')"
      ]
    },
    {
      "cell_type": "markdown",
      "metadata": {
        "id": "WRSU_MBnhI2T"
      },
      "source": [
        "## Question 18\n",
        "**Three Exits:** Write different versions of either Question 16 or Question 17 that do each of the following at least once:\n",
        "\n",
        "* Use a conditional test in the while statement to stop the loop.\n",
        "* Use an active variable to control how long the loop runs.\n",
        "* Use a break statement to exit the loop when the user enters a 'quit' value."
      ]
    },
    {
      "cell_type": "code",
      "source": [
        "prompt = \"Please enter your desired topping. Keep in mind, we have a 3 topping limit!\"\n",
        "prompt2 = 'Want another topping? If not, please enter \"Done\"'\n",
        "topping = input(prompt)\n",
        "print(f\"We'll add {topping} to your pizza!\")\n",
        "limit = 1\n",
        "while limit != 3: #conditional test/active variable (topping limit)\n",
        "  topping = input(prompt2)\n",
        "  if topping == \"Done\":\n",
        "    print(\"We'll start preparing your order now.\")\n",
        "    break #break statement\n",
        "  else:\n",
        "    print(f\"We'll add {topping} to your pizza!\")\n",
        "    limit += 1"
      ],
      "metadata": {
        "id": "TVBB8wHPdwil"
      },
      "execution_count": null,
      "outputs": []
    },
    {
      "cell_type": "markdown",
      "metadata": {
        "id": "mmGaz2tshI2X"
      },
      "source": [
        "## Question 19\n",
        "**Deli:** Make a list called `sandwich_orders` and fill it with the names of various sandwiches. Then make an empty list called `finished_sandwiches`. Loop through the list of sandwich orders and print a message for each order, such as `I made your tuna sandwich`. As each sandwich is made, move it to the list of finished sandwiches. After all the sandwiches have been made, print a message listing each sandwich that was made."
      ]
    },
    {
      "cell_type": "code",
      "execution_count": 81,
      "metadata": {
        "colab": {
          "base_uri": "https://localhost:8080/"
        },
        "id": "3xM2DkeahI2X",
        "outputId": "be6ed1e9-ca0c-4b01-e9e6-ed6fe2ab0381"
      },
      "outputs": [
        {
          "output_type": "stream",
          "name": "stdout",
          "text": [
            "I finished your tuna sandwich.\n",
            "I finished your meatball sub.\n",
            "I finished your PB&J.\n",
            "All the sandwiches are done. I have a\n",
            "tuna sandwich\n",
            "meatball sub\n",
            "PB&J\n"
          ]
        }
      ],
      "source": [
        "sandwich_orders =['tuna sandwich', 'meatball sub', 'PB&J']\n",
        "finished_sandwiches = []\n",
        "for sandwich in sandwich_orders:\n",
        "  print(f'I finished your {sandwich}.')\n",
        "  finished_sandwiches.append(sandwich)\n",
        "sandwich_orders =[]\n",
        "print('All the sandwiches are done. I have a')\n",
        "for sandwich in finished_sandwiches:\n",
        "  print(f'{sandwich}')"
      ]
    },
    {
      "cell_type": "markdown",
      "metadata": {
        "id": "kHzqeVsUhI2X"
      },
      "source": [
        "## Question 20\n",
        "**No Pastrami:** Using the list `sandwich_orders` from Question 19, make sure the sandwich `pastrami` appears in the list at least three times. Add code near the beginning of your program to print a message saying the deli has run out of pastrami, and then use a `while` loop to remove all occurrences of `pastrami` from `sandwich_orders`. Make sure no pastrami sandwiches end up in `finished_sandwiches`."
      ]
    },
    {
      "cell_type": "code",
      "execution_count": 82,
      "metadata": {
        "colab": {
          "base_uri": "https://localhost:8080/"
        },
        "id": "np2aUnB6hI2X",
        "outputId": "1a7f1003-4613-4de2-aa70-0c89ba3dadab"
      },
      "outputs": [
        {
          "output_type": "stream",
          "name": "stdout",
          "text": [
            "Sorry, but we ran out of pastrami today.\n",
            "I finished your tuna sandwich.\n",
            "I finished your meatball sub.\n",
            "I finished your PB&J.\n",
            "All the sandwiches are done. I have a\n",
            "tuna sandwich\n",
            "meatball sub\n",
            "PB&J\n"
          ]
        }
      ],
      "source": [
        "sandwich_orders =['pastrami', 'tuna sandwich', 'pastrami', 'meatball sub', 'PB&J','pastrami']\n",
        "finished_sandwiches = []\n",
        "print('Sorry, but we ran out of pastrami today.')\n",
        "while 'pastrami' in sandwich_orders: #I think this method is flawed and only works becuase I got lucky where I decided to place the pastrami sandwiches. It will mess up the index as it rifles through each item.\n",
        "  for sandwich in sandwich_orders: #I might be wrong though because the conditional statement only stops the program when there are no pastrami sandwiches left. Either way I think there's a better way. I just don't know it.\n",
        "    if sandwich == 'pastrami':\n",
        "      sandwich_orders.remove(sandwich)\n",
        "for sandwich in sandwich_orders:\n",
        "  print(f'I finished your {sandwich}.')\n",
        "  finished_sandwiches.append(sandwich)\n",
        "sandwich_orders =[]\n",
        "print('All the sandwiches are done. I have a')\n",
        "for sandwich in finished_sandwiches:\n",
        "  print(f'{sandwich}')"
      ]
    },
    {
      "cell_type": "markdown",
      "metadata": {
        "id": "mFL9HxQphI2X"
      },
      "source": [
        "## Question 21\n",
        "**Dream Vacation:** Write a program that polls users about their dream vacation. Write a prompt similar to *If you could visit one place in the world, where would you go?* Include a block of code that prints the results of the poll."
      ]
    },
    {
      "cell_type": "code",
      "source": [
        "place_list= ['Sao Paulo', 'Washington DC', 'New York', 'Jakarta'] #This block must be run before running the block below for the first time."
      ],
      "metadata": {
        "id": "jBDeD7U7kTOD"
      },
      "execution_count": 87,
      "outputs": []
    },
    {
      "cell_type": "code",
      "execution_count": null,
      "metadata": {
        "id": "8RodxwuKhI2X"
      },
      "outputs": [],
      "source": [
        "#this block actaully records the previous answers, that's why I put the list itself in a different block.\n",
        "prompt = \"If you could visit one place in the world, where would you go?\"\n",
        "\n",
        "place = input(prompt)\n",
        "place_list.append(place)\n",
        "print(f'{place.title()} is a great choice. Other users have said:')\n",
        "for place in place_list:\n",
        "  print (place.title())\n",
        "\n"
      ]
    }
  ],
  "metadata": {
    "kernelspec": {
      "display_name": "Python 3 (ipykernel)",
      "language": "python",
      "name": "python3"
    },
    "language_info": {
      "codemirror_mode": {
        "name": "ipython",
        "version": 3
      },
      "file_extension": ".py",
      "mimetype": "text/x-python",
      "name": "python",
      "nbconvert_exporter": "python",
      "pygments_lexer": "ipython3",
      "version": "3.8.10"
    },
    "colab": {
      "provenance": []
    }
  },
  "nbformat": 4,
  "nbformat_minor": 0
}